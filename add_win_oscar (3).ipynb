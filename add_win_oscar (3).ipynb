{
 "cells": [
  {
   "cell_type": "code",
   "execution_count": 1,
   "metadata": {},
   "outputs": [],
   "source": [
    "import pandas as pd\n",
    "import numpy as np\n",
    "import seaborn as sns\n",
    "import matplotlib.pyplot as plt"
   ]
  },
  {
   "cell_type": "code",
   "execution_count": 16,
   "metadata": {},
   "outputs": [
    {
     "data": {
      "text/html": [
       "<img src=\"https://raw.githubusercontent.com/XthebigdoX/oscarfinal/main/oscar_pic.jpg\" width=\"650\" height=\"650\"/>"
      ],
      "text/plain": [
       "<IPython.core.display.Image object>"
      ]
     },
     "execution_count": 16,
     "metadata": {},
     "output_type": "execute_result"
    }
   ],
   "source": [
    "from IPython.core.display import Image\n",
    "Image(url= \"https://raw.githubusercontent.com/Edens25/oscar_final/main/oscar_pic.jpg", width=650, height=650)"
   ]
  },
  {
   "cell_type": "markdown",
   "metadata": {},
   "source": [
    "**כתוספת מעניינת לפרויקט שלו נציג את הדת של זוכי האוסקר והיחס בינהם**"
   ]
  },
  {
   "cell_type": "code",
   "execution_count": 2,
   "metadata": {},
   "outputs": [
    {
     "data": {
      "text/html": [
       "<div>\n",
       "<style scoped>\n",
       "    .dataframe tbody tr th:only-of-type {\n",
       "        vertical-align: middle;\n",
       "    }\n",
       "\n",
       "    .dataframe tbody tr th {\n",
       "        vertical-align: top;\n",
       "    }\n",
       "\n",
       "    .dataframe thead th {\n",
       "        text-align: right;\n",
       "    }\n",
       "</style>\n",
       "<table border=\"1\" class=\"dataframe\">\n",
       "  <thead>\n",
       "    <tr style=\"text-align: right;\">\n",
       "      <th></th>\n",
       "      <th>birthplace</th>\n",
       "      <th>race_ethnicity</th>\n",
       "      <th>religion</th>\n",
       "      <th>sexual_orientation</th>\n",
       "      <th>year_of_award</th>\n",
       "    </tr>\n",
       "  </thead>\n",
       "  <tbody>\n",
       "    <tr>\n",
       "      <th>436</th>\n",
       "      <td>London, England</td>\n",
       "      <td>White</td>\n",
       "      <td>Jewish</td>\n",
       "      <td>Straight</td>\n",
       "      <td>2006</td>\n",
       "    </tr>\n",
       "    <tr>\n",
       "      <th>437</th>\n",
       "      <td>Manchester, England</td>\n",
       "      <td>White</td>\n",
       "      <td>Roman Catholic</td>\n",
       "      <td>Straight</td>\n",
       "      <td>2009</td>\n",
       "    </tr>\n",
       "    <tr>\n",
       "      <th>438</th>\n",
       "      <td>Chicago, Il</td>\n",
       "      <td>White</td>\n",
       "      <td>Na</td>\n",
       "      <td>Straight</td>\n",
       "      <td>1977</td>\n",
       "    </tr>\n",
       "    <tr>\n",
       "      <th>439</th>\n",
       "      <td>Laurel, Ne</td>\n",
       "      <td>White</td>\n",
       "      <td>Na</td>\n",
       "      <td>Straight</td>\n",
       "      <td>1999</td>\n",
       "    </tr>\n",
       "    <tr>\n",
       "      <th>440</th>\n",
       "      <td>Nevada, Mo</td>\n",
       "      <td>White</td>\n",
       "      <td>Na</td>\n",
       "      <td>Straight</td>\n",
       "      <td>1949</td>\n",
       "    </tr>\n",
       "  </tbody>\n",
       "</table>\n",
       "</div>"
      ],
      "text/plain": [
       "              birthplace race_ethnicity        religion sexual_orientation  \\\n",
       "436      London, England          White          Jewish           Straight   \n",
       "437  Manchester, England          White  Roman Catholic           Straight   \n",
       "438          Chicago, Il          White              Na           Straight   \n",
       "439           Laurel, Ne          White              Na           Straight   \n",
       "440           Nevada, Mo          White              Na           Straight   \n",
       "\n",
       "     year_of_award  \n",
       "436           2006  \n",
       "437           2009  \n",
       "438           1977  \n",
       "439           1999  \n",
       "440           1949  "
      ]
     },
     "execution_count": 2,
     "metadata": {},
     "output_type": "execute_result"
    }
   ],
   "source": [
    "url = 'https://github.com/XthebigdoX/oscarfinal/raw/main/oscar_win.xls'\n",
    "oscar_win= pd.read_csv(url)\n",
    "oscar_win.tail()"
   ]
  },
  {
   "cell_type": "markdown",
   "metadata": {},
   "source": [
    "**המרנו את הקובץ שלנו לערכים שנוכל להשתמש בהמשך**\\\n",
    "**לקחנו את שתי הדתות הראשונוות בעלות מספר הזוכים הגבוה ביותר**"
   ]
  },
  {
   "cell_type": "code",
   "execution_count": 3,
   "metadata": {},
   "outputs": [],
   "source": [
    "oscar_reli=oscar_win[oscar_win['religion']!=\"Na\"]\n",
    "top_2_reli=oscar_reli['religion'].value_counts().nlargest(2).to_dict()\n",
    "R_C_number_wins=list(top_2_reli.items())[0][1]\n",
    "J_number_wins=list(top_2_reli.items())[1][1]"
   ]
  },
  {
   "cell_type": "markdown",
   "metadata": {},
   "source": [
    "**כעת נבדוק את היחס בין מספר הזוכים למספר האוכלוסיה הכללית של אותו הדת**"
   ]
  },
  {
   "cell_type": "code",
   "execution_count": 4,
   "metadata": {},
   "outputs": [],
   "source": [
    "total_jewish=int(17000000)\n",
    "total_R_C=int(1200000000)\n",
    "J_to_total=J_number_wins/total_jewish\n",
    "R_C_to_total=R_C_number_wins/total_R_C"
   ]
  },
  {
   "cell_type": "markdown",
   "metadata": {},
   "source": [
    "**המרנו את הנתונים לדאטהפריים והצגנו אותם בצורה גרפית**"
   ]
  },
  {
   "cell_type": "code",
   "execution_count": 5,
   "metadata": {},
   "outputs": [],
   "source": [
    "df={'religion':['jewish','Roman Catholic'],'number_of':[J_to_total,R_C_to_total]}\n",
    "data_best=pd.DataFrame(df)"
   ]
  },
  {
   "cell_type": "markdown",
   "metadata": {},
   "source": [
    "**ניתן לראות שהיחס בין הזוכים לאוכלוסיה גדול בקרב יהודים פי 57 מאשר קטולים**"
   ]
  },
  {
   "cell_type": "code",
   "execution_count": 6,
   "metadata": {},
   "outputs": [
    {
     "data": {
      "image/png": "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\n",
      "text/plain": [
       "<Figure size 576x432 with 1 Axes>"
      ]
     },
     "metadata": {},
     "output_type": "display_data"
    }
   ],
   "source": [
    "sns.set(style=\"darkgrid\")\n",
    "plt.figure(figsize=(8,6))\n",
    "plt.title('Number of winners in relation to the world population',color = 'red',fontsize = 15)\n",
    "sns.barplot(x=\"religion\", y='number_of',data=data_best)\n",
    "plt.legend([\"The ratio of the two graphs : \"+str(J_to_total//R_C_to_total)])\n",
    "plt.show()"
   ]
  }
 ],
 "metadata": {
  "kernelspec": {
   "display_name": "Python 3",
   "language": "python",
   "name": "python3"
  },
  "language_info": {
   "codemirror_mode": {
    "name": "ipython",
    "version": 3
   },
   "file_extension": ".py",
   "mimetype": "text/x-python",
   "name": "python",
   "nbconvert_exporter": "python",
   "pygments_lexer": "ipython3",
   "version": "3.8.5"
  }
 },
 "nbformat": 4,
 "nbformat_minor": 4
}
